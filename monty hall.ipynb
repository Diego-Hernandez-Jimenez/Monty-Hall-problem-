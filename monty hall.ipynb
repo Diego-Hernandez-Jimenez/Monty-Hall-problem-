{
 "cells": [
  {
   "cell_type": "markdown",
   "metadata": {},
   "source": [
    "# Monty Hall problem"
   ]
  },
  {
   "cell_type": "markdown",
   "metadata": {},
   "source": [
    "Suppose you're on a game show, and you're given the choice of three doors: Behind one door is a car; behind the others, goats. You pick a door, say No. 1, and the host, who knows what's behind the doors, opens another door, say No. 3, which has a goat. He then says to you, \"Do you want to pick door No. 2?\" Is it to your advantage to switch your choice?\n",
    "\n",
    "\n",
    "\n",
    "<img src=\"https://hollamhouse.files.wordpress.com/2016/08/monty-hall-1.jpg\" alt=\"montyhall\"\n",
    "\ttitle=\"monty hall problem\" width=\"300\" height=\"300\" />"
   ]
  },
  {
   "cell_type": "markdown",
   "metadata": {},
   "source": [
    "Here we'll try to answer to that question empirically. We're just going to participate in the game (10.000 times no less...) and see what is the relative frequency of wins with each choice"
   ]
  },
  {
   "cell_type": "code",
   "execution_count": 31,
   "metadata": {},
   "outputs": [],
   "source": [
    "import random\n",
    "\n",
    "def populate():\n",
    "    doors={}\n",
    "    options=['goat','goat','car']\n",
    "    for door in range(len(options)):\n",
    "        selected=random.choice(options)\n",
    "        doors[door+1]=selected\n",
    "        options.remove(selected) \n",
    "    return doors\n",
    "\n",
    "def winner(final_choice,doors):\n",
    "    return True if doors[final_choice]=='car'else False\n",
    "\n",
    "#-------------------------------------------------------------\n",
    "\n",
    "class Presenter:\n",
    "    \n",
    "    def __init__(self):\n",
    "        self.show_doors=populate()\n",
    "        \n",
    "    def open_goat_door(self,doors,first_choice):\n",
    "        for door in doors.keys():\n",
    "            if doors[door]=='goat'and door!=first_choice:\n",
    "                del(doors[door])\n",
    "                return door\n",
    "        \n",
    "#--------------------------------------------------------------\n",
    "\n",
    "class Participant:\n",
    "    \n",
    "    def __init__(self):\n",
    "        return None\n",
    "    \n",
    "    def choice(self,doors):\n",
    "        return random.choice(list(doors.keys()))\n",
    "    \n",
    "    def final_choice(self,doors_left):\n",
    "        return self.choice(doors_left)\n",
    "            \n"
   ]
  },
  {
   "cell_type": "code",
   "execution_count": 32,
   "metadata": {},
   "outputs": [
    {
     "data": {
      "text/plain": [
       "{1: 'car', 2: 'goat', 3: 'goat'}"
      ]
     },
     "execution_count": 32,
     "metadata": {},
     "output_type": "execute_result"
    }
   ],
   "source": [
    "joe=Presenter()\n",
    "doors=joe.show_doors\n",
    "doors                  # Here are the options, hidden for the partcipant, of course"
   ]
  },
  {
   "cell_type": "code",
   "execution_count": 33,
   "metadata": {},
   "outputs": [
    {
     "data": {
      "text/plain": [
       "2"
      ]
     },
     "execution_count": 33,
     "metadata": {},
     "output_type": "execute_result"
    }
   ],
   "source": [
    "jane=Participant()\n",
    "first_choice=jane.choice(doors)\n",
    "first_choice            # The participant randomly selects one of the doors"
   ]
  },
  {
   "cell_type": "code",
   "execution_count": 34,
   "metadata": {},
   "outputs": [
    {
     "data": {
      "text/plain": [
       "3"
      ]
     },
     "execution_count": 34,
     "metadata": {},
     "output_type": "execute_result"
    }
   ],
   "source": [
    "door_goat=joe.open_goat_door(doors,first_choice)\n",
    "door_goat                # The presenter opens one of the doors hiding a goat"
   ]
  },
  {
   "cell_type": "code",
   "execution_count": 35,
   "metadata": {},
   "outputs": [
    {
     "data": {
      "text/plain": [
       "2"
      ]
     },
     "execution_count": 35,
     "metadata": {},
     "output_type": "execute_result"
    }
   ],
   "source": [
    "final_choice=jane.final_choice(doors)\n",
    "final_choice            # The participant finally decides (randomly) to stay with her first option or to shift to the other door"
   ]
  },
  {
   "cell_type": "code",
   "execution_count": 36,
   "metadata": {},
   "outputs": [
    {
     "data": {
      "text/plain": [
       "False"
      ]
     },
     "execution_count": 36,
     "metadata": {},
     "output_type": "execute_result"
    }
   ],
   "source": [
    "winner(final_choice,doors)"
   ]
  },
  {
   "cell_type": "markdown",
   "metadata": {},
   "source": [
    "## let's simulate it"
   ]
  },
  {
   "cell_type": "code",
   "execution_count": 37,
   "metadata": {},
   "outputs": [],
   "source": [
    "def monty_hall():\n",
    "    \n",
    "    pres=Presenter()\n",
    "    part=Participant()\n",
    "    \n",
    "    doors=pres.show_doors\n",
    "    first_choice=part.choice(doors)\n",
    "    goat_door=pres.open_goat_door(doors,first_choice)\n",
    "    final_choice=part.final_choice(doors)\n",
    "    \n",
    "    if first_choice!=final_choice:\n",
    "        change=True\n",
    "    else:\n",
    "        change=False\n",
    "    \n",
    "    return change,winner(final_choice,doors)\n",
    "        "
   ]
  },
  {
   "cell_type": "code",
   "execution_count": 38,
   "metadata": {},
   "outputs": [],
   "source": [
    "def simulate_contest(n):\n",
    "    results=[]\n",
    "    for n in range(n):\n",
    "        results.append(monty_hall())\n",
    "    return results"
   ]
  },
  {
   "cell_type": "code",
   "execution_count": 39,
   "metadata": {},
   "outputs": [
    {
     "data": {
      "text/plain": [
       "[(True, True), (False, False), (False, False), (True, True), (True, True)]"
      ]
     },
     "execution_count": 39,
     "metadata": {},
     "output_type": "execute_result"
    }
   ],
   "source": [
    "results=simulate_contest(5)\n",
    "results"
   ]
  },
  {
   "cell_type": "code",
   "execution_count": 40,
   "metadata": {},
   "outputs": [],
   "source": [
    "change_win=results.count((True,True))\n",
    "stay_win=results.count((False,True))"
   ]
  },
  {
   "cell_type": "code",
   "execution_count": 41,
   "metadata": {},
   "outputs": [
    {
     "data": {
      "text/plain": [
       "3"
      ]
     },
     "execution_count": 41,
     "metadata": {},
     "output_type": "execute_result"
    }
   ],
   "source": [
    "change_win"
   ]
  },
  {
   "cell_type": "code",
   "execution_count": 42,
   "metadata": {},
   "outputs": [
    {
     "data": {
      "text/plain": [
       "0"
      ]
     },
     "execution_count": 42,
     "metadata": {},
     "output_type": "execute_result"
    }
   ],
   "source": [
    "stay_win"
   ]
  },
  {
   "cell_type": "markdown",
   "metadata": {},
   "source": [
    "## Now with bigger numbers"
   ]
  },
  {
   "cell_type": "code",
   "execution_count": 43,
   "metadata": {},
   "outputs": [],
   "source": [
    "import matplotlib.pyplot as plt\n",
    "plt.style.use('seaborn')"
   ]
  },
  {
   "cell_type": "code",
   "execution_count": 44,
   "metadata": {},
   "outputs": [],
   "source": [
    "results=simulate_contest(10000)\n",
    "\n",
    "change_win=results.count((True,True))\n",
    "stay_win=results.count((False,True))"
   ]
  },
  {
   "cell_type": "code",
   "execution_count": 45,
   "metadata": {},
   "outputs": [
    {
     "data": {
      "image/png": "[encoded data removed]",
      "text/plain": [
       "<Figure size 576x396 with 1 Axes>"
      ]
     },
     "metadata": {},
     "output_type": "display_data"
    }
   ],
   "source": [
    "plt.pie([change_win,stay_win],labels=['change and win','stay and win'],\n",
    "        colors=['#f47c7c','#a1de93'],\n",
    "        explode=[0,0.1], # separate slices\n",
    "        autopct='%1.1f%%', # display actual % of each slice\n",
    "        wedgeprops={'edgecolor':'black'});"
   ]
  },
  {
   "cell_type": "markdown",
   "metadata": {},
   "source": [
    "# What should we do?\n",
    "\n",
    "Well, It's very clear that the best option is to change the door to maximize the chances of winning the car.\n",
    "\n",
    "But just if we want the car...\n",
    "\n",
    "<img src=\"https://www.explainxkcd.com/wiki/images/8/8e/monty_hall.png\n",
    "\" alt=\"alternativeending\"\n",
    "\ttitle=\"what if I want the goat\" width=\"500\" height=\"500\" />"
   ]
  }
 ],
 "metadata": {
  "kernelspec": {
   "display_name": "Python 3",
   "language": "python",
   "name": "python3"
  },
  "language_info": {
   "codemirror_mode": {
    "name": "ipython",
    "version": 3
   },
   "file_extension": ".py",
   "mimetype": "text/x-python",
   "name": "python",
   "nbconvert_exporter": "python",
   "pygments_lexer": "ipython3",
   "version": "3.7.7"
  }
 },
 "nbformat": 4,
 "nbformat_minor": 4
}
